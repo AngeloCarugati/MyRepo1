{
 "cells": [
  {
   "cell_type": "code",
   "execution_count": 1,
   "id": "8c4d7de1",
   "metadata": {},
   "outputs": [],
   "source": [
    "from gensim.models import KeyedVectors\n",
    "\n",
    "# Carica un modello di embedding preaddestrato (es. FastText o Word2Vec)\n",
    "model_path = \"/home/acarugat/cc.it.300.vec\"  # Sostituisci con il percorso del modello\n",
    "word_vectors = KeyedVectors.load_word2vec_format(model_path, binary=False)"
   ]
  },
  {
   "cell_type": "code",
   "execution_count": 2,
   "id": "5bf528f4",
   "metadata": {},
   "outputs": [
    {
     "name": "stdout",
     "output_type": "stream",
     "text": [
      "1999834\n",
      "Similarità tra 'pace' e 'serenità': 0.6263833045959473\n"
     ]
    }
   ],
   "source": [
    "# Esempi:\n",
    "\n",
    "c=word_vectors.get_vecattr(\"casa\",\"count\")\n",
    "print (c)\n",
    "\n",
    "vettore_casa = word_vectors['casa']\n",
    "#print (vettore_casa)\n",
    "\n",
    "# Calcola similarità tra due parole\n",
    "if 'pace' in word_vectors.key_to_index and 'serenità' in word_vectors.key_to_index:\n",
    "    similarita = word_vectors.similarity('guerra', 'conflitto')\n",
    "    print(f\"Similarità tra 'pace' e 'serenità': {similarita}\")"
   ]
  },
  {
   "cell_type": "code",
   "execution_count": 3,
   "id": "ca75355c",
   "metadata": {},
   "outputs": [
    {
     "name": "stdout",
     "output_type": "stream",
     "text": [
      "['care', 'concittadine', 'cari', 'concittadini', 'incontro', 'tradizionale', 'consente', 'rivolgere', 'augurio', 'sincero', 'trova', 'italia', 'italiani', 'estero', 'vivendo', 'ogni', 'fine', 'anno', 'ore', 'attesa', 'tempo', 'nuovo', 'viene', 'speriamo', 'migliore', 'ore', 'cerchiamo', 'serenità', 'rinsaldando', 'rapporti', 'comunità', 'famiglie', 'amicizie', 'auguri', 'riceviamo', 'soltanto', 'rito', 'dimostrazione', 'natura', 'autentica', 'chiama', 'relazione', 'altri', 'dobbiamo', 'farlo', 'tanto', 'viviamo', 'momenti', 'difficili', 'quando', 'migliaia', 'vittime', 'civili', 'guerre', 'corso', 'turbano', 'tragicamente', 'coscienze', 'notte', 'natale', 'diffusa', 'notizia', 'gaza', 'bambina', 'pochi', 'giorni', 'morta', 'assiderata', 'stessa', 'notte', 'natale', 'feroci', 'bombardamenti', 'russi', 'colpito', 'centrali', 'energia', 'città', 'ucraina', 'costringere', 'popolazione', 'civile', 'buio', 'gelo', 'innocenti', 'rapiti', 'hamas', 'tuttora', 'ostaggi', 'vivono', 'secondo', 'inizio', 'anno', 'condizioni', 'disumane', 'forme', 'barbarie', 'risparmiano', 'neppure', 'natale', 'festività', 'sentite', 'eppure', 'mai', 'adesso', 'pace', 'grida', 'urgenza', 'pace', 'costituzione', 'indica', 'obiettivo', 'irrinunziabile', 'italia', 'sempre', 'perseguito', 'importante', 'momento', 'quest', 'anno', 'presidenza', 'g7', 'pace', 'unione', 'europea', 'storica', 'espressione', 'pace', 'significa', 'sottomettersi', 'prepotenza', 'aggredisce', 'altri', 'paesi', 'armi', 'pace', 'rispetto', 'diritti', 'umani', 'pace', 'diritto', 'ogni', 'popolo', 'libertà', 'dignità', 'giusto', 'motivo', 'ritenuto', 'sufficiente', 'unica', 'garanzia', 'vera', 'pace', 'evitando', 'vengano', 'aggrediti', 'altri', 'paesi', 'd', 'europa', 'quindi', 'primo', 'augurio', 'rivolgiamo', 'nuovo', 'anno', 'porti', 'vera', 'pace', 'ovunque', 'interpreto', 'ore', 'angoscia', 'detenzione', 'cecilia', 'sala', 'vicini', 'attesa', 'rivederla', 'presto', 'italia', 'avviene', 'segnala', 'ancora', 'volta', 'valore', 'libera', 'informazione', 'tanti', 'giornalisti', 'rischiano', 'vita', 'documentare', 'quel', 'accade', 'sciagurate', 'guerre', 'confini', 'europa', 'medio', 'oriente', 'altrove', 'spesso', 'pagano', 'caro', 'prezzo', 'servizio', 'rendono', 'comunità', 'notte', 'natale', 'papa', 'francesco', 'invio', 'auguri', 'pieni', 'riconoscenza', 'aperto', 'giubileo', 'risuonare', 'mondo', 'richiamo', 'speranza', 'sera', 'ore', 'speranza', 'futuro', 'anno', 'viene', 'tocca', 'saperla', 'tradurre', 'realtà', 'cosa', 'significa', 'concretamente', 'coltivare', 'fiducia', 'tempo', 'segnato', 'oltre', 'guerre', 'squilibri', 'conflitti', 'bisogno', 'riorientare', 'convivenza', 'modo', 'vivere', 'insieme', 'periodo', 'sembra', 'mondo', 'sottoposto', 'allarmante', 'forza', 'centrifuga', 'capace', 'dividere', 'allontanare', 'radicalizzare', 'contrapposizioni', 'lacerate', 'pubbliche', 'opinioni', 'faglie', 'profonde', 'attraversano', 'società', 'realtà', 'viviamo', 'presenta', 'contraddizioni', 'generano', 'smarrimento', 'sgomento', 'talvolta', 'senso', 'impotenza', 'livello', 'globale', 'aumenta', 'modo', 'esponenziale', 'ricchezza', 'pochissimi', 'mentre', 'espande', 'povertà', 'tanti', 'crescita', 'spesa', 'armamenti', 'innescata', 'mondo', 'aggressione', 'russia', 'ucraina', 'costringe', 'provvedere', 'difesa', 'toccato', 'quest', 'anno', 'cifra', 'record', 'miliardi', 'dollari', 'otto', 'volte', 'stanziato', 'recente', 'cop', '29', 'baku', 'contrastare', 'cambiamento', 'climatico', 'esigenza', 'vitale', 'umanità', 'sconfortante', 'sproporzione', 'luci', 'ombre', 'riguardano', 'italia', 'scienza', 'ricerca', 'nuove', 'tecnologie', 'aprono', 'possibilità', 'inimmaginabili', 'fino', 'poco', 'tempo', 'addietro', 'cura', 'malattie', 'ritenute', 'inguaribili', 'stesso', 'tempo', 'lunghe', 'liste', 'd', 'attesa', 'esami', 'tempestivi', 'possono', 'salvare', 'vita', 'numerose', 'persone', 'rinunciano', 'cure', 'medicine', 'prive', 'mezzi', 'necessari', 'dati', 'occupazione', 'incoraggianti', 'resistono', 'tuttavia', 'aree', 'precarietà', 'salari', 'bassi', 'lavoratori', 'cassa', 'iintegrazione', 'export', 'italiano', 'registra', 'dati', 'positivi', 'così', 'turismo', 'segno', 'paese', 'esercita', 'forza', 'attrazione', 'va', 'là', 'bellezze', 'naturali', 'città', 'd', 'arte', 'cultura', 'aspetto', 'confortante', 'stride', 'fenomeno', 'giovani', 'vanno', 'lavorare', 'estero', 'trovano', 'alternative', 'spesso', 'dopo', 'essersi', 'laureati', 'nord', 'sud', 'disuguale', 'disponibilità', 'servizi', 'continua', 'pericolo', 'abbandono', 'aree', 'interne', 'montane', 'colmare', 'distanze', 'assicurare', 'pienezza', 'diritti', 'compito', 'mutamento', 'clima', 'incide', 'decisamente', 'eventi', 'meteo', 'subiamo', 'italia', 'ripetute', 'testimonianze', 'alluvioni', 'possono', 'essere', 'considerate', 'fatti', 'straordinari', 'frequenti', 'vanno', 'quindi', 'prevenute', 'lungimiranza', 'rimuovendo', 'condizioni', 'provocano', 'sciagure', 'attenzione', 'particolare', 'richiede', 'fenomeno', 'violenza', 'tocca', 'mondo', 'diviene', 'ancor', 'allarmante', 'quando', 'coinvolge', 'ragazzi', 'bullismo', 'risse', 'uso', 'armi', 'preoccupante', 'diffondersi', 'consumo', 'alcool', 'droghe', 'vecchie', 'nuove', 'giovanissimi', 'comportamenti', 'purtroppo', 'alimentati', 'web', 'propone', 'sovente', 'modelli', 'ispirati', 'prepotenza', 'successo', 'facile', 'sballo', 'giovani', 'grande', 'risorsa', 'paese', 'possiamo', 'contare', 'entusiasmo', 'forza', 'creativa', 'generosità', 'manifestano', 'spesso', 'dovere', 'ascoltare', 'disagio', 'dare', 'risposte', 'concrete', 'esigenze', 'aspirazioni', 'precarietà', 'incertezza', 'avvertono', 'giovani', 'generazioni', 'vanno', 'affrontate', 'grande', 'impegno', 'risiede', 'causa', 'rilevante', 'crisi', 'nascite', 'vivendo', 'intrecciano', 'quindi', 'straordinarie', 'potenzialità', 'punti', 'debolezza', 'risolvere', 'impegniamoci', 'comune', 'speranza', 'conduca', 'fiducia', 'verso', 'futuro', 'istituto', 'enciclopedia', 'italiana', 'treccani', 'scelto', 'parola', 'anno', 'rispetto', 'rispetto', 'verso', 'altri', 'rappresenta', 'primo', 'passo', 'società', 'accogliente', 'rassicurante', 'capace', 'umanità', 'primo', 'passo', 'strada', 'dialogo', 'collaborazione', 'solidarietà', 'elementi', 'poggia', 'civiltà', 'rispetto', 'vita', 'sicurezza', 'lavora', 'ultima', 'tragedia', 'pochi', 'giorni', 'fa', 'calenzano', 'cinque', 'persone', 'morte', 'possono', 'bastare', 'parole', 'sdegno', 'occorre', 'agire', 'responsabilità', 'severità', 'incidenti', 'mortali', 'possono', 'devono', 'prevenire', 'rispetto', 'dignità', 'ogni', 'persona', 'diritti', 'trova', 'carcere', 'alto', 'numero', 'suicidi', 'indice', 'condizioni', 'inammissibili', 'dovere', 'osservare', 'costituzione', 'indica', 'norme', 'imprescindibili', 'detenzione', 'carcere', 'sovraffollamento', 'contrasta', 'rende', 'inaccettabili', 'condizioni', 'lavoro', 'personale', 'penitenziario', 'detenuti', 'devono', 'potere', 'respirare', 'aria', 'diversa', 'condotti', 'illegalità', 'crimine', 'impegnati', 'generosi', 'operatori', 'meritano', 'essere', 'sostenuti', 'fine', 'anno', 'tempo', 'bilancio', 'incontrato', 'valori', 'comportamenti', 'positivi', 'incoraggianti', 'volto', 'gesti', 'testimonianze', 'tanti', 'concittadini', 'incontrati', 'coraggio', 'saputo', 'trasformare', 'dolore', 'causato', 'evento', 'vita', 'missione', 'altri', 'letti', 'parole', 'sammy', 'basso', 'insegnano', 'vivere', 'vita', 'piena', 'oltre', 'ogni', 'difficoltà', 'trovano', 'rumore', 'ragazze', 'ragazzi', 'intendono', 'tacere', 'fronte', 'scandalo', 'femminicidi', 'stati', 'drammaticamente', 'coinvolti', 'orrore', 'inaccettabile', 'sorte', 'giulia', 'cecchettin', 'tante', 'altre', 'donne', 'uccise', 'barbarie', 'uomini', 'rispettano', 'libertà', 'dignità', 'femminile', 'realtà', 'rispettano', 'neppure', 'sé', 'vogliamo', 'dover', 'parlare', 'donne', 'vittime', 'vogliamo', 'dobbiamo', 'parlare', 'energia', 'lavoro', 'essere', 'protagoniste', 'fatto', 'riferimento', 'alcuni', 'esempi', 'persone', 'scelto', 'operare', 'bene', 'comune', 'proprio', 'trama', 'sentimenti', 'valori', 'tensione', 'ideale', 'quel', 'tiene', 'assieme', 'comunità', 'traduce', 'realtà', 'speranza', 'collettiva', 'insieme', 'vogliamo', 'costruire', 'medesima', 'trama', 'consentirà', 'evitare', 'divaricazioni', 'lacerano', 'società', 'producendo', 'deserto', 'relazioni', 'mondo', 'abitato', 'tante', 'solitudini', 'chiamati', 'agire', 'rifuggendo', 'egoismo', 'rassegnazione', 'indifferenza', 'quotidiana', 'esperienza', 'tanti', 'concittadini', 'manifesta', 'sentimento', 'vivo', 'sempre', 'attuale', 'idea', 'patria', 'colpito', 'recente', 'entusiasmo', 'allievi', 'marina', 'militare', 'nave', 'trieste', 'avvio', 'servizio', 'italia', 'valori', 'costituzionali', 'momento', 'tanti', 'militari', 'diversi', 'teatri', 'operativi', 'essi', 'rinnovo', 'riconoscenza', 'repubblica', 'patriottismo', 'medici', 'pronto', 'soccorso', 'svolgono', 'servizio', 'condizioni', 'difficili', 'talvolta', 'rischiose', 'insegnanti', 'dedicano', 'passione', 'formazione', 'giovani', 'fa', 'impresa', 'responsabilità', 'sociale', 'attenzione', 'sicurezza', 'lavora', 'professionalità', 'coscienza', 'studia', 'prepara', 'responsabilità', 'presto', 'impegna', 'volontariato', 'anziani', 'assicurano', 'sostegno', 'famiglie', 'patriottismo', 'origini', 'altri', 'paesi', 'ama', 'italia', 'fa', 'propri', 'valori', 'costituzionali', 'leggi', 'vive', 'appieno', 'quotidianità', 'lavoro', 'sensibilità', 'diventa', 'parte', 'contribuisce', 'arricchire', 'comunità', 'fondamentale', 'creare', 'percorsi', 'integrazione', 'reciproca', 'comprensione', 'dipende', 'futuro', 'società', 'sicurezza', 'rimane', 'preoccupazione', 'cittadini', 'massimo', 'sostegno', 'deve', 'essere', 'assicurato', 'vittime', 'reati', 'rapporto', 'censis', 'base', 'dati', 'ministero', 'interno', 'risulta', '2013', '2024', 'stati', 'raggiunti', 'risultati', 'significativi', 'fronte', 'prevenzione', 'forte', 'riduzione', 'omicidi', 'volontari', 'rapine', 'furti', 'abitazioni', 'grati', 'forze', 'ordine', 'presidio', 'libertà', 'cittadini', 'contributo', 'decisivo', 'recano', 'cornice', 'sicurezza', 'vive', 'paese', 'affacciano', 'nuovi', 'odiosi', 'fenomeni', 'partire', 'truffe', 'anziani', 'aggressioni', 'via', 'web', 'ragazzi', 'violenza', 'strada', 'crimini', 'quali', 'forze', 'ordine', 'fortemente', 'impegnate', 'desidero', 'rivolgere', 'saluto', 'donne', 'uomini', 'sport', 'stato', 'anno', 'olimpico', 'paralimpico', 'ricordo', 'notti', 'parigi', 'orgoglio', 'atleti', 'attorno', 'bandiera', 'grato', 'successi', 'ancor', 'autentico', 'spirito', 'sportivo', 'vissuto', 'partecipazione', 'bell', 'esempio', 'ben', 'oltre', 'confini', 'sport', '2025', 'celebreremo', 'ottanta', 'anni', 'liberazione', 'fondamento', 'repubblica', 'presupposto', 'costituzione', 'consentito', 'italia', 'riallacciare', 'fili', 'storia', 'unità', 'ricorrenza', 'importante', 'reca', 'sé', 'richiamo', 'liberazione', 'ciò', 'ostacola', 'libertà', 'democrazia', 'dedizione', 'italia', 'dignità', 'ciascuno', 'lavoro', 'giustizia', 'valori', 'animano', 'vita', 'paese', 'attese', 'persone', 'comunità', 'esprimono', 'ricompongono', 'attraverso', 'ampia', 'partecipazione', 'cittadini', 'voto', 'rafforza', 'democrazia', 'attraverso', 'positiva', 'mediazione', 'istituzioni', 'verso', 'bene', 'comune', 'bene', 'repubblica', 'compito', 'alto', 'compete', 'politica', 'chiamati', 'consolidare', 'sviluppare', 'ragioni', 'poste', 'costituzione', 'base', 'comunità', 'nazionale', 'impresa', 'trasmette', 'generazione', 'altra', 'speranza', 'può', 'tradursi', 'soltanto', 'attesa', 'inoperosa', 'speranza', 'impegno', 'libertà', 'scelte', 'buon', 'anno']\n"
     ]
    }
   ],
   "source": [
    "# Scarica le risorse necessarie di NLTK\n",
    "import nltk\n",
    "from nltk.tokenize import word_tokenize\n",
    "from nltk.corpus import stopwords\n",
    "\n",
    "import string\n",
    "\n",
    "\n",
    "#nltk.download('punkt')\n",
    "#nltk.download('stopwords')\n",
    "\n",
    "# Pre-processamento del testo\n",
    "def preprocess_text(text):\n",
    "    stop_words = set(stopwords.words('italian'))  # Stop words in italiano\n",
    "    tokens = word_tokenize(text.lower())         # Tokenizzazione\n",
    "    tokens = [word for word in tokens if word.isalnum()]  # Rimuovi punteggiatura\n",
    "    tokens = [word for word in tokens if word not in stop_words]  # Rimuovi stop words\n",
    "    return tokens\n",
    "\n",
    "# Testo da analizzare\n",
    "# Metodo con il contesto `with` (raccomandato)\n",
    "file_path = \"/home/acarugat/DiscorsoMattarellaFine2024.txt\"\n",
    "\n",
    "# Leggi il contenuto del file\n",
    "with open(file_path, 'r', encoding='utf-8') as file:\n",
    "    testo = file.read()\n",
    "\n",
    "tokens = preprocess_text(testo)\n",
    "\n",
    "print(tokens)\n"
   ]
  },
  {
   "cell_type": "code",
   "execution_count": 4,
   "id": "76e0394a",
   "metadata": {},
   "outputs": [
    {
     "name": "stdout",
     "output_type": "stream",
     "text": [
      "            Parola  Frequenza\n",
      "0           essere    1999940\n",
      "1             anni    1999923\n",
      "2            parte    1999919\n",
      "3            stato    1999915\n",
      "4             dopo    1999897\n",
      "..             ...        ...\n",
      "760          sammy    1475880\n",
      "761      calenzano    1472995\n",
      "762     assiderata    1419791\n",
      "763  divaricazioni    1344393\n",
      "764         censis    1291949\n",
      "\n",
      "[765 rows x 2 columns]\n"
     ]
    }
   ],
   "source": [
    "# Parole presenti nel vocabolario del modello\n",
    "import pandas as pd \n",
    "\n",
    "# Pre-processamento del testo\n",
    "def preprocess_text(text):\n",
    "    stop_words = set(stopwords.words('italian'))  # Stop words in italiano\n",
    "    tokens = word_tokenize(text.lower())         # Tokenizzazione\n",
    "    tokens = [word for word in tokens if word.isalnum()]  # Rimuovi punteggiatura\n",
    "    tokens = [word for word in tokens if word not in stop_words]  # Rimuovi stop words\n",
    "    return tokens\n",
    "\n",
    "tokens_unici = list(set(tokens))\n",
    "\n",
    "parole_presenti = [word for word in tokens_unici if word in word_vectors.key_to_index]\n",
    "\n",
    "tabella = []\n",
    "\n",
    "for parola in parole_presenti:\n",
    "    c=word_vectors.get_vecattr(parola,\"count\")\n",
    "    tabella.append({\"Parola\": parola, \"Frequenza\": c})\n",
    "df = pd.DataFrame(tabella)\n",
    "print (df.sort_values(by=[\"Frequenza\", \"Parola\"],ascending=False,ignore_index=True))"
   ]
  },
  {
   "cell_type": "code",
   "execution_count": 30,
   "id": "bfa6a2a7",
   "metadata": {},
   "outputs": [
    {
     "data": {
      "image/png": "[encoded data removed]",
      "text/plain": [
       "<Figure size 640x480 with 1 Axes>"
      ]
     },
     "metadata": {},
     "output_type": "display_data"
    },
    {
     "data": {
      "text/plain": [
       "<Axes: xlabel='Samples', ylabel='Counts'>"
      ]
     },
     "execution_count": 30,
     "metadata": {},
     "output_type": "execute_result"
    }
   ],
   "source": [
    "import nltk\n",
    "freq_dist = nltk.FreqDist(tokens)\n",
    "#for k,v in freq_dist.items():\n",
    "    #print(str(k) + ':' + str(v))\n",
    "\n",
    "# Infine, plottiamo i risultati ottenuti in un grafico per visualizzare quali sono gli argomenti più discussi all’interno della pagina\n",
    "freq_dist.plot(10, cumulative=False)\n",
    "#freq_dist.tabulate(10, cumulative=False)\n"
   ]
  },
  {
   "cell_type": "code",
   "execution_count": null,
   "id": "e42c0743",
   "metadata": {},
   "outputs": [],
   "source": [
    "from sklearn.cluster import KMeans\n",
    "import numpy as np\n",
    "from sklearn.manifold import TSNE\n",
    "import matplotlib.pyplot as plt\n",
    "\n",
    "# Imposta il numero di cluster\n",
    "num_clusters = 20\n",
    "\n",
    "vettori = [word_vectors[word] for word in parole_presenti]\n",
    "           \n",
    "# Converti la lista in un array NumPy\n",
    "vettori_array = np.array(vettori)\n",
    "\n",
    "# Applica t-SNE\n",
    "tsne = TSNE(n_components=2, random_state=42)\n",
    "vettori_ridotti = tsne.fit_transform(vettori_array)\n",
    "\n",
    "# Esegui il clustering\n",
    "#kmeans = KMeans(n_clusters=num_clusters, n_init='auto', random_state=42)\n",
    "kmeans = KMeans(n_clusters=num_clusters, init='k-means++', n_init='auto', max_iter=300, tol=0.0001, verbose=0, random_state=None, copy_x=True, algorithm='lloyd')\n",
    "kmeans.fit(vettori)\n",
    "\n",
    "# Ottieni i cluster\n",
    "clusters = kmeans.labels_"
   ]
  },
  {
   "cell_type": "code",
   "execution_count": null,
   "id": "a8e37a03",
   "metadata": {},
   "outputs": [],
   "source": [
    "# Raggruppa le parole per cluster\n",
    "cluster_parole = {i: [] for i in range(num_clusters)}\n",
    "for parola, cluster in zip(parole_presenti, clusters):\n",
    "    cluster_parole[cluster].append(parola)\n",
    "\n",
    "# Visualizza i cluster\n",
    "for cluster, parole in cluster_parole.items():\n",
    "    print(f\"Cluster {cluster}: {parole}\")\n",
    "    plt.figure(figsize=(10, 10))\n",
    "    for i, parola in enumerate(parole):\n",
    "        plt.scatter(vettori_ridotti[i, 0], vettori_ridotti[i, 1])\n",
    "        plt.annotate(parola, (vettori_ridotti[i, 0], vettori_ridotti[i, 1]))\n",
    "    plt.show()\n"
   ]
  },
  {
   "cell_type": "code",
   "execution_count": null,
   "id": "48ca1cee",
   "metadata": {},
   "outputs": [],
   "source": [
    "dati_ridotti = tsne.fit_transform(vettori_array)"
   ]
  },
  {
   "cell_type": "code",
   "execution_count": null,
   "id": "a074dcb7",
   "metadata": {},
   "outputs": [],
   "source": [
    "print (len(dati_ridotti))"
   ]
  },
  {
   "cell_type": "code",
   "execution_count": null,
   "id": "8e92316b",
   "metadata": {},
   "outputs": [],
   "source": [
    "# Applica KMeans per creare cluster\n",
    "n_clusters = 10  # Numero di cluster\n",
    "kmeans = KMeans(n_clusters=n_clusters, n_init='auto', random_state=42)\n",
    "labels = kmeans.fit_predict(vettori_array)"
   ]
  },
  {
   "cell_type": "code",
   "execution_count": null,
   "id": "5f79b256",
   "metadata": {},
   "outputs": [],
   "source": [
    "# Crea un grafico scatter con colori basati sui cluster\n",
    "plt.figure(figsize=(10, 6))\n",
    "plt.scatter(dati_ridotti[:, 0], dati_ridotti[:, 1], c=labels, cmap='tab10', s=50, alpha=0.7)\n",
    "plt.colorbar(label='Cluster')\n",
    "plt.title(\"Visualizzazione dei Cluster\")\n",
    "plt.xlabel(\"Dimensione 1\")\n",
    "plt.ylabel(\"Dimensione 2\")\n",
    "plt.show()"
   ]
  },
  {
   "cell_type": "code",
   "execution_count": null,
   "id": "b75c577b",
   "metadata": {},
   "outputs": [],
   "source": [
    "# Ottieni i cluster\n",
    "clusters = kmeans.labels_\n",
    "# Raggruppa le parole per cluster\n",
    "cluster_parole = {i: [] for i in range(n_clusters)}\n",
    "for parola, cluster in zip(parole_presenti, clusters):\n",
    "    cluster_parole[cluster].append(parola)\n",
    "# Visualizza i cluster\n",
    "for cluster, parole in cluster_parole.items():\n",
    "    print(f\"Cluster {cluster}: {parole}\")\n",
    "    #plt.figure(figsize=(10, 10))\n",
    "    #for i, parola in enumerate(parole):\n",
    "    #    plt.scatter(vettori_ridotti[i, 0], vettori_ridotti[i, 1])\n",
    "    #    plt.annotate(parola, (vettori_ridotti[i, 0], vettori_ridotti[i, 1]))\n",
    "    #plt.show()"
   ]
  },
  {
   "cell_type": "code",
   "execution_count": null,
   "id": "db91ea65",
   "metadata": {},
   "outputs": [],
   "source": [
    "from collections import Counter\n",
    "from nltk.corpus import stopwords\n",
    "from nltk.tokenize import word_tokenize\n",
    "import nltk\n",
    "\n",
    "# Scarica le risorse necessarie\n",
    "#nltk.download('punkt')\n",
    "#nltk.download('stopwords')\n",
    "\n",
    "# 1. Preprocessamento: Tokenizza e rimuovi stop words\n",
    "stop_words = set(stopwords.words('italian'))\n",
    "parole = word_tokenize(testo.lower())\n",
    "parole_pulite = [word for word in parole if word.isalnum() and word not in stop_words]\n",
    "\n",
    "# 2. Conta la frequenza delle parole\n",
    "frequenze = Counter(parole_pulite)\n",
    "\n",
    "# 3. Ordina per frequenza decrescente\n",
    "frequenze_ordinate = frequenze.most_common()\n",
    "\n",
    "# 4. Stampa le parole ordinate\n",
    "print(\"Frequenze delle parole (ordinate):\")\n",
    "for parola, frequenza in frequenze_ordinate:\n",
    "    print(f\"{parola}: {frequenza}\")\n",
    "\n"
   ]
  },
  {
   "cell_type": "code",
   "execution_count": null,
   "id": "16a68640",
   "metadata": {},
   "outputs": [],
   "source": [
    "import nltk\n",
    "\n",
    "# Scarica le risorse necessarie\n",
    "#nltk.download('punkt')\n",
    "\n",
    "# Tokenizza il testo in frasi\n",
    "frasi = nltk.sent_tokenize(testo, language=\"italian\")\n",
    "\n",
    "# Calcola le lunghezze delle frasi\n",
    "frasi_lunghezze = [(frase.strip(), len(nltk.word_tokenize(frase, language=\"italian\"))) for frase in frasi]\n",
    "\n",
    "# Ordina per lunghezza decrescente\n",
    "frasi_lunghezze.sort(key=lambda x: x[1], reverse=True)\n",
    "\n",
    "# Stampa le frasi ordinate\n",
    "#print(\"Frasi ordinate per lunghezza decrescente:\")\n",
    "#for frase, lunghezza in frasi_lunghezze:\n",
    "#    print(f\"Lunghezza: {lunghezza} parole -> Frase: '{frase}'\")\n",
    "    \n",
    "import pandas as pd\n",
    "pd.set_option('display.max_colwidth', None)\n",
    "\n",
    "df=pd.DataFrame(frasi_lunghezze,  columns=[\"Frase\", \"Lunghezza(parole)\"])\n",
    "\n",
    "df\n",
    "\n",
    "#from IPython.display import display, HTML\n",
    "#display(HTML(df.to_html()))"
   ]
  },
  {
   "cell_type": "code",
   "execution_count": null,
   "id": "a19bc3c2",
   "metadata": {},
   "outputs": [],
   "source": [
    "import spacy\n",
    "from collections import Counter\n",
    "\n",
    "# Load the SpaCy Italian model\n",
    "nlp = spacy.load(\"it_core_news_md\")\n",
    "\n",
    "# Process the text with SpaCy\n",
    "doc = nlp(testo)\n",
    "\n",
    "# Create a Counter to count word frequencies\n",
    "word_freq = Counter()\n",
    "\n",
    "# Iterate over tokens and count only words (excluding punctuation, spaces, etc.)\n",
    "for token in doc:\n",
    "    if not token.is_punct and not token.is_space:\n",
    "        word_freq[token.text.lower()] += 1  # Convert to lowercase for case-insensitive counting\n",
    "\n",
    "# Print the word frequencies\n",
    "for word, freq in word_freq.items():\n",
    "    print(f\"{word}: {freq}\")\n"
   ]
  },
  {
   "cell_type": "code",
   "execution_count": null,
   "id": "1aa5fb91",
   "metadata": {},
   "outputs": [],
   "source": [
    "import fasttext\n",
    "# load the pretrained model\n",
    "model=fasttext.load_model(\"/home/acarugat/cc.it.300.bin\")\n",
    "\n",
    "# get nearest neighbors for the interested words (100 neighbors)\n",
    "arancia_nn=model.get_nearest_neighbors('arancia', k=100)\n",
    "kiwi_nn=model.get_nearest_neighbors('kiwi', k=100)\n",
    "\n",
    "# get only words sets (discard the similarity cosine)\n",
    "arancia_nn_words=set([el[1] for el in arancia_nn])\n",
    "kiwi_nn_words=set([el[1] for el in kiwi_nn])\n",
    "\n",
    "# compute the intersection\n",
    "common_similar_words=arancia_nn_words.intersection(kiwi_nn_words)\n",
    "\n",
    "print (common_similar_words)\n"
   ]
  },
  {
   "cell_type": "code",
   "execution_count": null,
   "id": "1acb2da9",
   "metadata": {},
   "outputs": [],
   "source": [
    "# Step 1: Load the frequencies from the file into a dictionary\n",
    "frequency_file = \"/home/acarugat/sorted.it.word.unigrams.utf8\"\n",
    "\n",
    "# Dictionary to store word frequencies\n",
    "word_frequencies = {}\n",
    "word_words = {}\n",
    "\n",
    "# Read the file and populate the dictionary\n",
    "with open(frequency_file, \"r\", encoding=\"utf-8\") as f:\n",
    "    for line in f:\n",
    "        #print (line)\n",
    "        # Split the line into frequency and word\n",
    "        parts = line.strip().split()\n",
    "        if len(parts) == 2:  # Ensure the line has two elements\n",
    "            frequency, word = parts\n",
    "            word_frequencies[word] = int(frequency)\n",
    "            word_words[word] = word\n",
    "\n",
    "# Step 2: Analyze the text\n",
    "# text = \"ciao come stai oggi è una bella giornata\"\n",
    "\n",
    "# Tokenize the text (split into words)\n",
    "# words = text.split()\n",
    "\n",
    "# Retrieve frequencies for each word\n",
    "word_frequencies_in_text = {word: word_frequencies.get(word, 0) for word in parole_presenti}\n",
    "\n",
    "sorted_frequencies = sorted(word_frequencies_in_text.items(), key=lambda item: item[1], reverse=True)\n",
    "\n",
    "# Print the results\n",
    "for word, freq in sorted_frequencies:\n",
    "    if freq == 0:\n",
    "        print(\"Parola\", word, \"non presente nel dizionario\")\n",
    "    else:\n",
    "        print(f\"Word: {word}, Frequency: {freq}\")\n"
   ]
  },
  {
   "cell_type": "code",
   "execution_count": null,
   "id": "81dd15a5",
   "metadata": {},
   "outputs": [],
   "source": [
    "from transformers import BertTokenizer\n",
    "tokenizer = BertTokenizer.from_pretrained(\"dbmdz/bert-base-italian-uncased\")"
   ]
  },
  {
   "cell_type": "code",
   "execution_count": null,
   "id": "4388881c",
   "metadata": {},
   "outputs": [],
   "source": [
    "tokens = tokenizer.tokenize(testo)\n",
    "print (tokens)"
   ]
  },
  {
   "cell_type": "code",
   "execution_count": 1,
   "id": "8eb94562",
   "metadata": {},
   "outputs": [
    {
     "name": "stdout",
     "output_type": "stream",
     "text": [
      "0.890644645792187\n"
     ]
    }
   ],
   "source": [
    "from sklearn.feature_extraction.text import TfidfVectorizer\n",
    "\n",
    "vectorizer = TfidfVectorizer()\n",
    "\n",
    "def compute_similarity(a, b): \n",
    "    tfidf = vectorizer.fit_transform([a, b])\n",
    "    return ((tfidf * tfidf.T).toarray())[0,1]\n",
    "\n",
    "file1_path = \"/home/acarugat/DiscorsoMattarellaFine2023.txt\"\n",
    "\n",
    "with open(file1_path, 'r', encoding='utf-8') as file: \n",
    "    testo1 = file.read()\n",
    "\n",
    "file2_path = \"/home/acarugat/DiscorsoMattarellaFine2024.txt\"\n",
    "\n",
    "with open(file2_path, 'r', encoding='utf-8') as file: \n",
    "    testo2 = file.read()\n",
    "\n",
    "s=compute_similarity(testo1,testo2)\n",
    "\n",
    "print (s)\n"
   ]
  },
  {
   "cell_type": "code",
   "execution_count": 2,
   "id": "7d1c1498",
   "metadata": {},
   "outputs": [
    {
     "name": "stdout",
     "output_type": "stream",
     "text": [
      "Dimmi che documenti vuoi analizzare: Presidenti Giornali o Parlamento\n",
      "Giornali\n"
     ]
    }
   ],
   "source": [
    "import os\n",
    "import pandas as pd\n",
    "import numpy as np\n",
    "\n",
    "# Initialize lists to store filenames and contents\n",
    "filenames = []\n",
    "contents = []\n",
    "\n",
    "# Walk through the home directory and read all text files\n",
    "print (\"Dimmi che documenti vuoi analizzare: Presidenti Giornali o Parlamento\")\n",
    "line = input()\n",
    "\n",
    "for root, dirs, files in os.walk(\"/home/acarugat/Testi/\"+line):\n",
    "    for file in files:\n",
    "        if file.endswith(\".txt\"):  # Check if the file is a text file\n",
    "            filepath = os.path.join(root, file)\n",
    "            try:\n",
    "                with open(filepath, 'r', encoding='utf-8') as f:\n",
    "                    filenames.append(filepath)  # Store the file path\n",
    "                    contents.append(f.read())  # Store the file content\n",
    "            except Exception as e:\n",
    "                print(f\"Error reading {filepath}: {e}\")\n",
    "\n",
    "# Create the dataset (DataFrame)\n",
    "dataset = pd.DataFrame({\n",
    "    \"filename\": filenames,\n",
    "    \"content\": contents\n",
    "})\n",
    "\n",
    "# Display the dataset\n",
    "# print(dataset)\n",
    "\n",
    "M = np.zeros((dataset.shape[0], dataset.shape[0])) # creiamo una matrice 30x30 per contenere i risultati di testo_i con testo_j\n"
   ]
  },
  {
   "cell_type": "code",
   "execution_count": 3,
   "id": "aa67a12b",
   "metadata": {},
   "outputs": [],
   "source": [
    "#print (M)"
   ]
  },
  {
   "cell_type": "code",
   "execution_count": 4,
   "id": "95804a56",
   "metadata": {},
   "outputs": [
    {
     "name": "stdout",
     "output_type": "stream",
     "text": [
      "0         IlGiornale\n",
      "1         Repubblica\n",
      "2    FattoQuotidiano\n",
      "3           Corriere\n",
      "4             Libero\n",
      "Name: filename, dtype: object\n"
     ]
    }
   ],
   "source": [
    "labels=dataset.filename.str.split('/').str[4:].str[1]\n",
    "labels=labels.str.split('.').str[0]\n",
    "print (labels)\n",
    "similarity_df = pd.DataFrame(M, columns=labels, index=labels) # creiamo un dataframe"
   ]
  },
  {
   "cell_type": "code",
   "execution_count": 5,
   "id": "df09b509",
   "metadata": {},
   "outputs": [
    {
     "name": "stderr",
     "output_type": "stream",
     "text": [
      "1st level: 100%|██████████████████████████████████████████████████████████████████████████████████████████████████████████████████████████████████████████| 5/5 [00:00<00:00, 71.25it/s]\n"
     ]
    }
   ],
   "source": [
    "from tqdm import tqdm\n",
    "\n",
    "for i, row in tqdm(dataset.iterrows(), total=dataset.shape[0], desc='1st level'): # definiamo i\n",
    "    for j, next_row in dataset.iterrows(): # definiamo j\n",
    "        M[i, j] = compute_similarity(row.content, next_row.content) # popoliamo la matrice con i risultati"
   ]
  },
  {
   "cell_type": "code",
   "execution_count": 6,
   "id": "e43a91c5",
   "metadata": {},
   "outputs": [],
   "source": [
    "#print (M)"
   ]
  },
  {
   "cell_type": "code",
   "execution_count": 7,
   "id": "71c7ba3f",
   "metadata": {},
   "outputs": [
    {
     "data": {
      "image/png": "[encoded data removed]",
      "text/plain": [
       "<Figure size 1200x1200 with 2 Axes>"
      ]
     },
     "metadata": {},
     "output_type": "display_data"
    }
   ],
   "source": [
    "import seaborn as sns\n",
    "import matplotlib.pyplot as plt\n",
    "import numpy as np\n",
    "\n",
    "mask = np.triu(np.ones_like(similarity_df)) # applichiamo una maschera per rimuovere la parte superiore della heatmap\n",
    "\n",
    "# creiamo la visualizzazione\n",
    "plt.figure(figsize=(12, 12))\n",
    "sns.heatmap(\n",
    "\t\t\tsimilarity_df,\n",
    "\t\t\tsquare=True, \n",
    "\t\t\tannot=True, \n",
    "\t\t\trobust=True,\n",
    "\t\t\tfmt='.2f',\n",
    "\t\t\tannot_kws={'size': 7, 'fontweight': 'bold'},\n",
    "\t\t\tyticklabels=similarity_df.columns,\n",
    "\t\t\txticklabels=similarity_df.columns,\n",
    "\t\t\tcmap=\"YlGnBu\",\n",
    "            #mask=mask\n",
    "\t\t\tmask=None\n",
    ")\n",
    "\n",
    "plt.title('Heatmap delle similarità tra testi', fontdict={'fontsize': 24})\n",
    "plt.show()"
   ]
  }
 ],
 "metadata": {
  "kernelspec": {
   "display_name": "Python 3 (ipykernel)",
   "language": "python",
   "name": "python3"
  },
  "language_info": {
   "codemirror_mode": {
    "name": "ipython",
    "version": 3
   },
   "file_extension": ".py",
   "mimetype": "text/x-python",
   "name": "python",
   "nbconvert_exporter": "python",
   "pygments_lexer": "ipython3",
   "version": "3.11.5"
  }
 },
 "nbformat": 4,
 "nbformat_minor": 5
}
