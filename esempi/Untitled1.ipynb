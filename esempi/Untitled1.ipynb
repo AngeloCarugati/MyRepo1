{
 "cells": [
  {
   "cell_type": "code",
   "execution_count": null,
   "id": "17b52f52",
   "metadata": {},
   "outputs": [],
   "source": [
    "from gensim.models import KeyedVectors\n",
    "\n",
    "# Percorso del modello pre-addestrato\n",
    "model_path = \"GoogleNews-vectors-negative300.bin\"\n",
    "\n",
    "# Carica il modello in formato binario\n",
    "model = KeyedVectors.load_word2vec_format(model_path, binary=True)\n",
    "\n",
    "# Verifica che il modello sia stato caricato\n",
    "print(model['word'])  # Mostra il vettore per la parola 'word'\n"
   ]
  },
  {
   "cell_type": "code",
   "execution_count": null,
   "id": "feb9ff66",
   "metadata": {},
   "outputs": [],
   "source": []
  }
 ],
 "metadata": {
  "kernelspec": {
   "display_name": "Python 3 (ipykernel)",
   "language": "python",
   "name": "python3"
  },
  "language_info": {
   "codemirror_mode": {
    "name": "ipython",
    "version": 3
   },
   "file_extension": ".py",
   "mimetype": "text/x-python",
   "name": "python",
   "nbconvert_exporter": "python",
   "pygments_lexer": "ipython3",
   "version": "3.11.5"
  }
 },
 "nbformat": 4,
 "nbformat_minor": 5
}
