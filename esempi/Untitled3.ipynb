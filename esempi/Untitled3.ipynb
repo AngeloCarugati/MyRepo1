{
 "cells": [
  {
   "cell_type": "code",
   "execution_count": null,
   "id": "e75da52e",
   "metadata": {
    "scrolled": false
   },
   "outputs": [],
   "source": [
    "from gensim.models import Word2Vec\n",
    "import numpy as np\n",
    "import pandas as pd\n",
    "from transformers import BertTokenizer\n",
    "from nltk.tokenize import word_tokenize\n",
    "with open('/home/acarugat/Testi/Presidenti/MattarellaFine2024.txt', 'r') as matta24:\n",
    "    mattarella24 = matta24.read()\n",
    "with open('/home/acarugat/Testi/Presidenti/MattarellaFine2023.txt', 'r') as matta23:\n",
    "    mattarella23 = matta23.read()\n"
   ]
  },
  {
   "cell_type": "markdown",
   "id": "c17b43ce",
   "metadata": {},
   "source": [
    "## Scelta del tokenizzatore"
   ]
  },
  {
   "cell_type": "code",
   "execution_count": null,
   "id": "4aa351b0",
   "metadata": {},
   "outputs": [],
   "source": [
    "tokenizer = BertTokenizer.from_pretrained(\"dbmdz/bert-base-italian-uncased\", force_download=True)\n",
    "tokens23 = tokenizer.tokenize(mattarella23) #buuuu\n",
    "tokens23_nltk = word_tokenize(mattarella23, language='italian') #per ora meglio"
   ]
  },
  {
   "cell_type": "code",
   "execution_count": 29,
   "id": "3a017ff3",
   "metadata": {},
   "outputs": [
    {
     "name": "stdout",
     "output_type": "stream",
     "text": [
      "['fatta', 'falso', 'cure', 'clima', '2025', 'crescita', 'Ho', 'droghe', 'Dotati', 'progresso', 'Ascoltare', 'nazionale', 'scenario', 'esperienza', 'garanzia', 'vengano', 'modelli', 'Segno', 'Cutro', 'miliardi', 'avversari', 'pessima', 'opinioni', 'Basso', 'riceviamo', 'pericoli', 'retribuzione', 'rende', 'buio', 'farlo', 'pretendere', '2024', 'termine', 'segnato', 'sviluppare', 'esempi', 'soldati', 'grande', 'accogliente', 'cassa', 'diffusione', 'assistenziale', 'professionali', 'odio', 'Europea', 'occupazione', 'avvenuti', 'manifestano', 'fronte', 'ama', 'quotidiana', 'queste', 'altra', 'uguali', 'salari', 'suicidi', 'rafforza', 'sociali', 'là', 'attraversano', 'capacità', 'impotenza', 'precarietà', 'partecipare', 'della', 'italiani', 'permanente', 'legalità', 'Gli', 'esprimono', 'compete', 'Israele', 'Nord', 'diffondersi', 'illegalità', 'riconosciuti', 'semplici', 'menandone', 'rimasti', 'Vediamo', 'epocale', 'invece', 'ed', 'passo', 'Colmare', 'amicizie', 'radicalizzare', 'davanti', 'inique', 'respinti', 'richiamo', 'momenti', 'Mutamenti', 'cominciare', 'significativi', 'sistema', 'ritarda', 'manifesta', 'bell', 'coscienza', 'tuttavia', 'relazione', 'dominio', 'fiducia', 'odiosi', 'd', 'controlli', 'alcool', 'successo', 'Rispetto', 'improponibili', 'verbo', 'da', 'ne', 'costruire', 'Debole', 'consolidare', 'beni', 'Affermare', 'integrazione', 'generazione', 'rumore', 'squilibri', 'parole', 'terribili', 'rendono', 'carico', 'Faglie', 'atteggiamenti', 'Ore', 'Care', 'militari', 'delle', 'migliaia', 'esercizio', 'mia', 'sta', 'Rifiutando', 'assiderata', 'dai', 'in', 'riconoscendo', 'Cecilia', 'fatti', 'valore', 'italiano', 'sulle', 'straordinari', 'storie', 'inermi', 'rispettivi', 'quelli', 'cuore', 'libero', 'opportunità', 'spinta', 'Vite', 'quanti', 'scelto', 'fine', 'Incapace', 'incide', 'riguardano', 'indipendente', 'ampia', 'differenze', 'tecnologie', 'confine', 'persona', 'Repubblica', 'rifuggendo', 'uguaglianza', 'vero', 'culto', 'popoli', 'tensione', 'modalità', 'potenzialità', 'mi', 'precedenti', 'o', '-', 'Marina', 'liberazione', 'quel', 'centrifuga', 'persone', 'essersi', 'contribuire', 'proprio', 'attiva', 'alluvione', 'Reciprocamente', 'generano', 'sé', 'unica', 'Destinato', 'guadagni', 'orientare', 'massimo', 'mentre', 'saluto', 'terroristica', 'animo', 'Tanti', 'Nella', 'guerre', 'Eppure', 'passione', 'case', 'confini', 'impegno', '’', 'partecipazione', 'attenzione', 'relazionali', 'sorte', 'pietà', 'bene', 'diventati', 'poco', 'attuale', 'mette', 'iintegrazione', '‘', 'frequenti', 'cura', 'scelte', 'come', 'altro', 'esponenziale', 'saputo', 'dimensione', 'presupposto', 'inaccettabile', 'Consapevoli', 'professionalità', 'talvolta', '2.443', 'letali', 'ottanta', 'reciproca', 'cresce', 'lunghi', 'vita', 'riduzione', 'libertà', 'comprendere', 'risultato', 'ripetute', 'tragedia', 'efficacemente', 'contributo', 'Sud', 'festeggiare', 'studi', 'Per', 'ferocia', 'Sempre', 'dopo', 'li', 'concittadini', 'dover', 'esercita', 'all', 'notti', 'ragazzi', 'scientifico', 'rivolgiamo', 'intendere', 'coltivano', 'isolati', 'Anzitutto', 'evitando', 'Mi', 'per', 'export', 'richiede', 'Medio', 'ultima', 'poggia', 'norme', 'gesti', 'dentro', 'Magistero', 'rassegnazione', 'Patria', 'rispetto', 'assetti', 'devastati', 'Tra', 'Che', 'libera', 'stiamo', 'soltanto', 'ragazze', 'siamo', 'sanitarie', 'gestori', 'prestare', 'liste', 'omicidi', 'Al', 'Bullismo', 'rischiose', 'invio', 'pesare', 'altri', 'Sono', 'sproporzione', 'informazione', 'logica', 'lezione', 'rimuovere', 'Adesso', 'degli', 'nasce', 'grato', 'alloggio', 'risultati', '–', 'Europa', 'notte', 'nei', 'alto', 'autentico', 'pazienza', 'Naturalmente', 'prive', 'composta', 'primo', 'unità', 'crisi', 'motivo', 'coinvolge', 'Hamas', 'Sammy', 'nostre', 'diseguaglianza', 'vulnerabilità', 'rimozione', 'avvio', 'Nello', 'considerare', 'tradizionale', 'Nei', 'fondanti', 'mutamento', 'crimini', 'speranze', 'possibilità', 'quanto', 'pronto', 'Vogliamo', 'convivenza', 'incertezza', 'vediamo', 'Calenzano', 'porti', 'pretende', 'arricchire', 'cantavano', 'scienza', 'assicurano', 'un', 'stagione', 'nostro', 'stati', 'superprivilegiati', '“', 'devastazioni', 'record', 'pericolo', 'successi', 'quella', 'manca', 'volto', 'tradursi', 'innocenti', 'piena', 'Oriente', 'molto', 'concrete', 'sgomento', 'rabbia', 'già', 'conflitti', 'giornalisti', 'Istituto', 'operosa', 'sguardo', 'divaricazioni', 'lei', 'futuro', 'ottobre', 'eventi', 'ovunque', 'Desidero', 'realtà', 'Natale', 'Ordine', 'motivi', 'cercare', 'pochi', 'prevenzione', 'chiama', 'operano', 'incidenti', 'eccezione', 'grida', ';', '7', 'incontra', 'sovente', 'quando', 'rassicurante', 'democrazia', 'impegnarsi', 'operativi', 'propria', 'turbano', 'Stato', 'riduce', 'disumane', 'rete', 'vivere', 'Numerose', 'linguaggio', 'soccorso', 'diventa', 'malinteso', 'dico', 'lavorano', 'confiscati', 'morta', 'timore', 'mutamenti', 'modo', 'contrario', 'guerra', 'vincere', 'Cioè', 'giovanissimi', 'meteo', 'sentimenti', 'contribuisce', 'sorrisi', 'passaggio', 'uccisi', 'sempre', 'solitudini', 'perché', 'fondamento', 'rivolgo', 'diritti', 'ambientale', 'Casal', 'Avvertiamo', 'cogliere', 'pensiero', 'insieme', 'mamme', 'resti', 'giustificare', 'israeliano', 'riallacciare', 'don', 'i', 'immani', 'collettiva', 'perseguita', 'Liberazione', 'Occorre', 'sui', 'decide', 'misura', 'Cui', 'instancabile', 'difesa', 'Diana', 'suscitare', 'appartengono', 'creare', 'determinazione', 'rivoluzione', 'risentimento', 'dall', 'forme', 'risiede', 'osservare', 'uso', 'sua', 'Queste', 'aree', 'raggiunti', 'abbandonare', 'Forze', 'trovano', 'gratuità', 'comune', 'dinamica', 'più', \"un'effettiva\", 'vite', 'fuori', 'istituzioni', 'vedere', 'lacerano', 'inimmaginabili', 'farsi', 'prevalere', 'A', 'condannate', 'atleti', 'rispettano', 'Pace', 'attrazione', 'pone', 'tante', 'obiettivo', 'aspirazioni', 'esigenza', 'irrinunziabile', 'fatto', 'Nelle', 'sugli', 'dobbiamo', 'Ministero', 'alle', 'medici', 'fili', 'dedicarsi', 'neutralità', 'consumo', 'giorno', 'aggredisce', 'indice', 'sognatori', 'lontano', 'confronto', 'Paesi', 'annetterla', 'vedo', 'minacciosa', 'strada', 'disuguale', 'tutto', 'direzione', 'allarme', 'asservire', 'bambini', 'piuttosto', 'punti', 'occorre', 'abitato', 'nuove', 'ad', 'suo', 'vuole', 'su', 'dalla', 'sorti', 'scene', 'Costruirla', 'Abbiamo', 'sciagurate', 'detenzione', 'momento', 'fondata', 'Libertà', 'aprono', 'respingere', 'Le', 'Italia', 'vicini', 'decisamente', 'Nasce', 'concittadine', 'allarmante', 'cari', 'essi', 'sicurezza', 'l', 'brutalità', 'pari', 'deve', 'drammaticamente', 'governo', 'idea', 'forte', 'risulta', 'nuovo', 'coraggio', 'pesano', 'comunità', 'morti', 'operare', 'non', 'avvenuto', 'assistiamo', 'necessari', 'Uno', 'visti', 'se', 'una', 'nemici', 'Qualcosa', 'rapiti', 'dar', 'prevale', 'creativa', 'facendo', 'studenti', 'formazione', 'provvedere', 'consueta', 'orribile', 'Sulle', 'prepara', 'morte', 'avrà', 'alternative', 'risse', 'forti', 'umanità', 'web', 'verbale', 'contabilità', 'vivono', 'abbiamo', 'bombardamenti', 'gente', 'costituzionali', 'recente', 'difficoltà', 'è', 'significativo', 'corso', 'Piuttosto', 'ragioni', 'verrà', 'filtri', 'generosi', 'lasciato', 'avvenire', 'protagoniste', 'allievi', 'aspettative', 'prossimo', 'quali', 'relazioni', 'ciascuno', 'elementi', 'servizi', ':', 'Ucraina', 'orgoglio', 'vogliamo', 'comportamenti', 'identità', 'sentono', 'contrapposizioni', 'ancora', 'nascite', 'profonde', 'agli', 'governi', 'crimine', 'cifra', 'voi', 'abituarsi', 'rivolgermi', 'affermare', 'ostacola', 'alluvioni', 'mentalità', 'agire', 'capace', 'ricorrenza', 'le', 'sottopagato', 'appieno', 'aggrediti', 'sola', 'sono', 'rive', 'strade', 'contrasta', 'rispondere', 'partire', 'quest', 'penitenziario', 'Così', 'scarto', 'spezzate', 'basi', 'medicine', 'ho', 'straordinarie', 'percorrere', 'debito', 'accuse', 'Di', 'inizio', 'armi', 'cornice', 'saggezza', 'insegnanti', 'costi', 'positiva', 'rilevante', 'Rispettandosi', 'unisce', 'Cosa', 'impegnate', 'mai', 'al', 'occuparsi', 'portino', 'ormai', 'ben', 'adesso', 'uscita', 'maggior', 'urgente', 'volontari', 'Significa', 'profondamente', 'solo', 'ore', 'oggi', 'fa', 'consente', 'denigrazione', 'sincero', 'contraddizioni', 'globale', 'Sappiamo', 'troviamo', 'può', 'Delle', 'esprimo', 'producendo', 'parte', 'neppure', 'Unità', 'stato', 'barbarie', 'giorni', 'verso', 'quotidianità', 'Ricordo', 'ricchezza', 'serenità', 'presentata', 'volontà', 'ritenute', 'interne', 'visto', 'rapidità', 'società', 'evento', 'lo', 'dire', 'volgere', 'Patriottismo', 'disumanità', 'pieni', 'tanto', 'rinunciano', 'Disorientati', 'mediazione', 'personale', 'via', 'detenuti', 'rapporti', 'parlare', 'mortali', 'usa', 'trovarci', 'Impegniamoci', 'toccato', 'contare', 'testimoniati', 'alla', 'indica', 'femminicidi', 'allontanare', 'solidarietà', 'stride', 'ricompongono', 'bisogno', 'stessi', 'parola', 'nuovi', 'considerate', 'G7', 'accade', 'sottometterla', 'indispensabile', 'incontro', 'modificare', \"L'ho\", 'turismo', 'il', 'povertà', 'costringere', 'fiscalmente', 'climatico', 'noi', 'Tocca', 'avvertono', 'loro', 'espressioni', 'umana', 'Viviamo', 'risparmiano', 'rivederla', 'livello', 'trova', 'donne', 'invasa', 'civiltà', 'lavora', 'lavoro', 'con', 'principio', 'scandalo', 'risorse', 'sviluppando', 'cittadini', 'fanno', 'autentica', 'Vi', 'fragilità', 'Stati', 'spesa', 'trama', 'militare', 'Interno', 'femminile', 'Rapporto', '!', 'confortante', 'Baku', 'genera', 'facciamo', 'incontrano', 'Quello', 'causa', 'periodo', 'imprescindibili', 'ingiusto', 'celebreremo', 'nostri', 'studia', 'Anche', 'presidenza', 'luoghi', 'pagano', 'viva', 'Assicurare', 'Italiana', 'strumento', 'smarrimento', 'debolezza', 'lavoratori', 'peggio', 'positivi', 'dedizione', 'nome', 'rivolgere', 'sopraffazione', 'tacere', 'politica', 'capaci', 'sembra', 'presentano', 'Dobbiamo', 'lavorare', 'Alla', 'senza', 'ostaggi', 'naturali', 'contro', 'basta', 'accomuna', 'meritano', 'impetuose', 'bandiera', 'tanti', 'millennio', 'vuol', 'tempestivi', 'orrore', 'Alle', 'particolare', 'preparando', 'generosità', 'preoccupati', 'tutti', 'russi', 'sulla', 'Verso', 'L', 'reati', 'realizzarsi', 'Luci', 'sociale', 'situazioni', 'I', 'dei', 'chi', 'nave', 'truffe', 'sentimento', 'unirsi', 'aspetto', 'rinsaldando', 'fondamentale', 'spirito', 'tragicamente', 'estero', 'dono', 'popolazione', 'episodi', 'nati', 'propri', 'anche', 'Questi', 'risposte', 'possa', 'segnala', 'praticare', 'animano', 'ignorate', 'ringrazio', 'importante', 'provocano', 'Come', 'In', 'Otto', 'Ciascuno', 'ma', 'presto', 'ancor', 'sportivo', 'Spesso', 'violenza', 'intrecciano', 'autoalimenta', 'cinque', 'negli', 'inguaribili', 'stanziato', 'Dalla', 'devastante', 'insegnano', 'raccontano', 'O', 'Fonte', 'origini', 'c', 'Quando', 'respirare', 'regola', 'testimonianze', 'studio', 'farci', 'traduce', 'attraverso', 'adopera', 'qualche', 'intendono', 'nella', 'salvare', 'questa', 'del', 'bassi', 'rinnovo', 'muoviamo', 'Lo', 'potere', 'riconosce', 'inaccettabili', 'indifferenza', 'Comportamenti', 'aiutati', 'seguiti', 'auguri', 'ostacoli', 'affrontate', 'missione', 'vissuto', 'infondate', 'durerà', 'Laddove', 'familiari', 'rimuovendo', 'aprano', 'propone', 'Partecipare', 'notorietà', 'facile', 'sul', 'lacerate', 'grandi', 'condizioni', 'riscatto', 'sovraffollamento', 'Interpreto', 'buonismo', 'affrontare', 'dare', 'aumento', 'armamenti', 'aggressione', 'tiene', 'spesso', 'aggressioni', 'abusivi', 'speriamo', 'Siamo', 'vivo', 'chiamati', 'sentite', 'suoi', 'Cop', 'perduta', 'intorno', 'definita', 'aperto', 'riconoscenza', 'riflettori', 'evasione', 'costruzione', 'sviluppo', 'migranti', 'incontrato', 'coinvolti', 'decisivo', 'poste', 'incoraggianti', 'pongono', 'rischio', 'mezzi', 'Prima', 'svolgono', 'dicono', 'altre', 'Dagli', 'allo', 'riferimento', 'Frutto', 'nel', 'qualcosa', 'definire', 'ascoltare', 'collaborazione', 'stesso', 'spalavano', 'ribellarsi', 'E', 'nell', 'bilancio', 'assicurato', 'prima', 'tradurre', 'dollari', 'separa', 'sottomettersi', 'storico', 'condizione', 'Nel', 'atteggiamento', 'Macerie', 'enormi', 'identificare', 'vivendo', 'arrivo', 'fango', 'rimane', 'base', 'La', 'esercitano', 'disconosce', 'Censis', 'provoca', 'Enciclopedia', 'assieme', 'egoismo', 'fosse', 'arte', 'Questo', 'Giubileo', 'esami', 'camorra', 'va', 'Su', 'tecnologia', 'coscienze', 'Non', 'dovere', 'vicino', 'servizio', 'nelle', 'cambiano', 'ci', 'sue', 'disponibilità', 'uomini', 'preoccupazione', 'deserto', 'rapine', 'Principe', 'angoscia', '2013', 'fino', 'gravi', 'vive', 'trasmette', 'evocate', 'fortemente', 'Dal', 'astratto', 'uniti', 'coltiva', 'sconfortante', 'Perseguire', 'rischiano', 'saperla', 'rifiuto', 'tragica', 'innescata', 'volontariato', 'moltitudini', 'intento', 'centrali', 'pervasa', 'Cari', 'universitarie', 'Ma', 'iscritta', 'voto', 'prezzo', 'Quelle', 'cambiamento', 'strumenti', 'Contribuire', 'conclude', 'quello', 'giustizia', 'Parigi', 'ispirati', 'inammissibili', 'risolvere', 'avviene', 'Buon', 'fatica', 'popolo', 'quindi', 'gelo', 'urgenza', 'nostra', 'ai', 'Quanto', '?', 'carcere', 'di', 'visite', 'giusto', 'Si', 'concretamente', 'possiamo', 'diffuse', 'distrutte', 'Un', 'questo', 'aria', 'conduca', 'ombre', 'hanno', 'occhi', 'ha', 'presenta', 'esigenze', 'evitare', 'dipende', 'mondo', 'problemi', 'Continua', 'dialogo', 'inoperosa', 'pensavamo', 'generazioni', 'impresa', 'novità', 'coltivare', 'tendenza', 'sia', 'sciagure', 'lungimiranza', 'dolore', 'incontriamo', 'terzo', 'ritenuto', 'pienezza', 'augurio', 'operatori', 'abitazioni', 'livelli', 'natura', 'viene', 'energia', 'Degli', 'reazione', 'sarebbe', 'uno', 'condividono', 'gli', 'vede', 'scomparse', 'viviamo', 'presenza', 'che', 'stare', 'Mediterraneo', 'dimostrazione', 'periferie', 'letti', 'Papa', 'Resistono', 'Parlare', 'intelligenza', 'stanno', 'cultura', 'uccise', 'frutto', 'cui', 'contribuito', 'prepotenza', 'estrema', 'prevenute', 'Ignobile', 'volte', 'spontaneo', 'accettare', 'radunarsi', 'fare', 'Costituzione', 'possono', 'generando', 'diviene', 'gruppo', 'devono', 'aumenta', 'tutta', 'far', 'sera', 'Una', 'fenomeni', 'espressione', 'storica', 'linea', 'condotti', 'Perché', 'addietro', 'diversi', 'trasformare', 'anziani', 'città', 'dello', 'risorsa', 'alcuni', 'sostenuti', 'purtroppo', 'dignità', 'Cecchettin', 'montane', 'sballo', 'numero', 'famiglie', 'È', 'autismo', 'Trieste', 'dalle', 'attese', 'responsabilità', 'centinaia', 'parità', 'incontrati', 'Dipende', 'effettiva', 'bastare', 'percorsi', 'ricordato', 'Francesco', 'senso', 'festività', 'storia', 'manifestare', 'anni', 'minacciate', 'tradizione', 'odiosa', 'malattie', 'vitale', 'feroci', 'educare', 'sondaggio', 'teatri', 'porre', 'forza', 'difficile', 'olimpico', 'contrastare', 'distogliere', '.', 'mina', 'quelle', 'amore', 'medesima', 'tempo', 'diffusa', 'pubblico', '”', 'consentirà', 'vanto', 'causato', ',', 'recare', 'ideale', 'mezzo', 'Treccani', 'conoscenza', 'vanno', 'inarrestabile', 'Facciamo', 'Tenendo', 'registra', 'anno', 'sfruttare', 'cerca', 'fenomeno', 'furti', 'difficili', 'travolgendo', 'presidio', 'ogni', 'notizia', 'lunghe', 'laureati', 'bellezze', 'oltre', 'leggere', 'affacciano', 'parla', 'pace', 'dedicano', 'volta', 'estranei', 'Russia', 'Pur', 'bambina', 'si', 'aggressività', 'patriottismo', 'Vorrei', 'civili', 'rappresenta', 'paralimpico', 'rassicuranti', 'dell', 'disagio', 'riconoscersi', 'conflittualità', 'aut', 'rendere', 'stessa', 'Possiamo', 'cambiato', 'social', 'tuttora', 'recano', 'presente', 'a', 'Promossa', 'artificiale', 'tempi', 'vera', 'interesse', 'impegna', 'divisa', 'scatenato', 'Gaza', 'esempio', 'così', 'Il', 'Della', 'realismo', 'vecchie', 'riconoscere', 'costringe', 'scarsa', 'attesa', 'graveranno', 'Reca', 'Giulia', 'dal', 'possibile', 'inaccettabilmente', 'entusiasmo', 'consentito', 'riorientare', 'compito', 'moltiplicato', 'Preoccupante', 'Unione', 'Romagna', 'economici', 'civile', 'nutre', 'aiuto', 'valori', 'Ci', 'sufficiente', 'chiuderci', 'Pizza', 'posto', 'concreto', 'scorso', 'spazio', 'sottoposto', 'umani', 'addirittura', 'rito', 'balzo', 'vittime', 'Stiamo', 've', 'colpito', 'impone', 'pochissimi', 'saper', 'subiamo', 'comprensione', 'giovani', 'documentare', 'Con', 'abitudini', 'risuonare', 'alimentati', 'sostegno', 'migliore', 'abbandono', 'altrove', 'diritto', 'disorientamento', 'dividere', 'attorno', 'cerchiamo', 'espande', 'pubbliche', 'ricerca', 'perseguito', 'invocare', 'vi', 'pilastro', 'Penso', 'caro', 'questi', 'effetti', 'distanze', 'leggi', 'grati', 'severità', 'aggravano', 'diversa', 'significa', 'Sala', 'azione', 'venga', 'sdegno', 'essere', 'competizione', 'Coltivarne', 'andamento', 'fisiche', 'prevenire', 'speranza', 'impegnati', 'tra', 'spregevole', 'Paese', 'Volere', 'e', 'emergenze', 'secondo', 'funzioni', 'sport', 'pretesto', 'basterebbe', 'dati', 'sensibilità', 'completa', 'proprie', 'ciò', 'Li', 'la', 'garantire', '29', 'conseguire']\n"
     ]
    }
   ],
   "source": [
    "tokens24_nltk = word_tokenize(mattarella24, language='italian')\n",
    "lista_token = []\n",
    "lista_token.append(tokens24_nltk)\n",
    "lista_token.append(tokens23_nltk)\n",
    "lista_mattarella = tokens23_nltk + tokens24_nltk\n",
    "unique_tokens =list(set(lista_mattarella))\n",
    "print(unique_tokens)"
   ]
  },
  {
   "cell_type": "markdown",
   "id": "dccd11a4",
   "metadata": {},
   "source": [
    "## Creazione del modello Word2Vec"
   ]
  },
  {
   "cell_type": "code",
   "execution_count": 31,
   "id": "464a2dc0",
   "metadata": {},
   "outputs": [],
   "source": [
    "model23 = Word2Vec(sentences=tokens23_nltk, vector_size =100, window=5, min_count = 1, workers = 4)\n",
    "model23.save(\"mattarella23.model\")"
   ]
  },
  {
   "cell_type": "code",
   "execution_count": 36,
   "id": "42bf75b5",
   "metadata": {},
   "outputs": [
    {
     "ename": "KeyError",
     "evalue": "\"Key 'concittadini' not present\"",
     "output_type": "error",
     "traceback": [
      "\u001b[0;31m---------------------------------------------------------------------------\u001b[0m",
      "\u001b[0;31mKeyError\u001b[0m                                  Traceback (most recent call last)",
      "Cell \u001b[0;32mIn[36], line 1\u001b[0m\n\u001b[0;32m----> 1\u001b[0m vector \u001b[38;5;241m=\u001b[39m model23\u001b[38;5;241m.\u001b[39mwv[\u001b[38;5;124m'\u001b[39m\u001b[38;5;124mconcittadini\u001b[39m\u001b[38;5;124m'\u001b[39m]\n\u001b[1;32m      2\u001b[0m \u001b[38;5;28mprint\u001b[39m(vector)\n",
      "File \u001b[0;32m~/anaconda3/lib/python3.11/site-packages/gensim/models/keyedvectors.py:403\u001b[0m, in \u001b[0;36mKeyedVectors.__getitem__\u001b[0;34m(self, key_or_keys)\u001b[0m\n\u001b[1;32m    389\u001b[0m \u001b[38;5;250m\u001b[39m\u001b[38;5;124;03m\"\"\"Get vector representation of `key_or_keys`.\u001b[39;00m\n\u001b[1;32m    390\u001b[0m \n\u001b[1;32m    391\u001b[0m \u001b[38;5;124;03mParameters\u001b[39;00m\n\u001b[0;32m   (...)\u001b[0m\n\u001b[1;32m    400\u001b[0m \n\u001b[1;32m    401\u001b[0m \u001b[38;5;124;03m\"\"\"\u001b[39;00m\n\u001b[1;32m    402\u001b[0m \u001b[38;5;28;01mif\u001b[39;00m \u001b[38;5;28misinstance\u001b[39m(key_or_keys, _KEY_TYPES):\n\u001b[0;32m--> 403\u001b[0m     \u001b[38;5;28;01mreturn\u001b[39;00m \u001b[38;5;28mself\u001b[39m\u001b[38;5;241m.\u001b[39mget_vector(key_or_keys)\n\u001b[1;32m    405\u001b[0m \u001b[38;5;28;01mreturn\u001b[39;00m vstack([\u001b[38;5;28mself\u001b[39m\u001b[38;5;241m.\u001b[39mget_vector(key) \u001b[38;5;28;01mfor\u001b[39;00m key \u001b[38;5;129;01min\u001b[39;00m key_or_keys])\n",
      "File \u001b[0;32m~/anaconda3/lib/python3.11/site-packages/gensim/models/keyedvectors.py:446\u001b[0m, in \u001b[0;36mKeyedVectors.get_vector\u001b[0;34m(self, key, norm)\u001b[0m\n\u001b[1;32m    422\u001b[0m \u001b[38;5;28;01mdef\u001b[39;00m \u001b[38;5;21mget_vector\u001b[39m(\u001b[38;5;28mself\u001b[39m, key, norm\u001b[38;5;241m=\u001b[39m\u001b[38;5;28;01mFalse\u001b[39;00m):\n\u001b[1;32m    423\u001b[0m \u001b[38;5;250m    \u001b[39m\u001b[38;5;124;03m\"\"\"Get the key's vector, as a 1D numpy array.\u001b[39;00m\n\u001b[1;32m    424\u001b[0m \n\u001b[1;32m    425\u001b[0m \u001b[38;5;124;03m    Parameters\u001b[39;00m\n\u001b[0;32m   (...)\u001b[0m\n\u001b[1;32m    444\u001b[0m \n\u001b[1;32m    445\u001b[0m \u001b[38;5;124;03m    \"\"\"\u001b[39;00m\n\u001b[0;32m--> 446\u001b[0m     index \u001b[38;5;241m=\u001b[39m \u001b[38;5;28mself\u001b[39m\u001b[38;5;241m.\u001b[39mget_index(key)\n\u001b[1;32m    447\u001b[0m     \u001b[38;5;28;01mif\u001b[39;00m norm:\n\u001b[1;32m    448\u001b[0m         \u001b[38;5;28mself\u001b[39m\u001b[38;5;241m.\u001b[39mfill_norms()\n",
      "File \u001b[0;32m~/anaconda3/lib/python3.11/site-packages/gensim/models/keyedvectors.py:420\u001b[0m, in \u001b[0;36mKeyedVectors.get_index\u001b[0;34m(self, key, default)\u001b[0m\n\u001b[1;32m    418\u001b[0m     \u001b[38;5;28;01mreturn\u001b[39;00m default\n\u001b[1;32m    419\u001b[0m \u001b[38;5;28;01melse\u001b[39;00m:\n\u001b[0;32m--> 420\u001b[0m     \u001b[38;5;28;01mraise\u001b[39;00m \u001b[38;5;167;01mKeyError\u001b[39;00m(\u001b[38;5;124mf\u001b[39m\u001b[38;5;124m\"\u001b[39m\u001b[38;5;124mKey \u001b[39m\u001b[38;5;124m'\u001b[39m\u001b[38;5;132;01m{\u001b[39;00mkey\u001b[38;5;132;01m}\u001b[39;00m\u001b[38;5;124m'\u001b[39m\u001b[38;5;124m not present\u001b[39m\u001b[38;5;124m\"\u001b[39m)\n",
      "\u001b[0;31mKeyError\u001b[0m: \"Key 'concittadini' not present\""
     ]
    }
   ],
   "source": [
    "vector = model23.wv['concittadini']\n",
    "print(vector)"
   ]
  },
  {
   "cell_type": "code",
   "execution_count": null,
   "id": "ffdaaa9c",
   "metadata": {},
   "outputs": [],
   "source": []
  }
 ],
 "metadata": {
  "kernelspec": {
   "display_name": "Python 3 (ipykernel)",
   "language": "python",
   "name": "python3"
  },
  "language_info": {
   "codemirror_mode": {
    "name": "ipython",
    "version": 3
   },
   "file_extension": ".py",
   "mimetype": "text/x-python",
   "name": "python",
   "nbconvert_exporter": "python",
   "pygments_lexer": "ipython3",
   "version": "3.11.5"
  }
 },
 "nbformat": 4,
 "nbformat_minor": 5
}
