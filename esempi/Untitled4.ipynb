{
 "cells": [
  {
   "cell_type": "code",
   "execution_count": 1,
   "id": "1155fa6a",
   "metadata": {},
   "outputs": [],
   "source": [
    "from MyLib import LLModel"
   ]
  },
  {
   "cell_type": "code",
   "execution_count": 2,
   "id": "193c6c7e",
   "metadata": {},
   "outputs": [
    {
     "name": "stdout",
     "output_type": "stream",
     "text": [
      "Nome =  modello n. 1\n",
      "Corpus =  /home/acarugat/Testi/\n",
      "Parametri =  {'nome': 'Giovanni', 'età': 26, 'città': 'Roma', 'lavoro': 'Ingegnere'}\n",
      "uno\n",
      "Chiave: nome, Valore: Giovanni\n",
      "Chiave: età, Valore: 26\n",
      "Chiave: città, Valore: Roma\n",
      "Chiave: lavoro, Valore: Ingegnere\n",
      "due\n"
     ]
    }
   ],
   "source": [
    "modello = LLModel(\"modello n. 1\", \"/home/acarugat/Testi/\", {'nome': 'Giovanni', 'età': 26, 'città': 'Roma', 'lavoro': 'Ingegnere'})"
   ]
  },
  {
   "cell_type": "code",
   "execution_count": null,
   "id": "101e4884",
   "metadata": {},
   "outputs": [],
   "source": []
  }
 ],
 "metadata": {
  "kernelspec": {
   "display_name": "Python 3 (ipykernel)",
   "language": "python",
   "name": "python3"
  },
  "language_info": {
   "codemirror_mode": {
    "name": "ipython",
    "version": 3
   },
   "file_extension": ".py",
   "mimetype": "text/x-python",
   "name": "python",
   "nbconvert_exporter": "python",
   "pygments_lexer": "ipython3",
   "version": "3.11.5"
  }
 },
 "nbformat": 4,
 "nbformat_minor": 5
}
