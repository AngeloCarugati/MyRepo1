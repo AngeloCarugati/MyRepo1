{
 "cells": [
  {
   "cell_type": "code",
   "execution_count": 2,
   "id": "1155fa6a",
   "metadata": {},
   "outputs": [],
   "source": [
    "from MyLib import LLModel"
   ]
  },
  {
   "cell_type": "code",
   "execution_count": 10,
   "id": "193c6c7e",
   "metadata": {},
   "outputs": [
    {
     "name": "stdout",
     "output_type": "stream",
     "text": [
      "Nome =  modello n. 1\n",
      "Corpus =  /home/acarugat/MyRepo1/Testi/Presidenti\n",
      "Parametri =  {'nome': 'Giovanni', 'età': 26, 'città': 'Roma', 'lavoro': 'Ingegnere'}\n",
      "uno\n",
      "Chiave: nome, Valore: Giovanni\n",
      "Chiave: età, Valore: 26\n",
      "Chiave: città, Valore: Roma\n",
      "Chiave: lavoro, Valore: Ingegnere\n",
      "due\n"
     ]
    }
   ],
   "source": [
    "modello = LLModel(\"modello n. 1\", \"/home/acarugat/MyRepo1/Testi/Presidenti\", {'nome': 'Giovanni', 'età': 26, 'città': 'Roma', 'lavoro': 'Ingegnere'})"
   ]
  },
  {
   "cell_type": "code",
   "execution_count": 11,
   "id": "45f16538",
   "metadata": {},
   "outputs": [
    {
     "name": "stdout",
     "output_type": "stream",
     "text": [
      "/home/acarugat/MyRepo1/Testi/Presidenti\n",
      "                                            filename  \\\n",
      "0  /home/acarugat/MyRepo1/Testi/Presidenti/Ciampi...   \n",
      "1  /home/acarugat/MyRepo1/Testi/Presidenti/Mattar...   \n",
      "2  /home/acarugat/MyRepo1/Testi/Presidenti/Mattar...   \n",
      "3  /home/acarugat/MyRepo1/Testi/Presidenti/Napoli...   \n",
      "4  /home/acarugat/MyRepo1/Testi/Presidenti/Mattar...   \n",
      "5  /home/acarugat/MyRepo1/Testi/Presidenti/Mattar...   \n",
      "\n",
      "                                             content  \n",
      "0  Care Italiane, cari Italiani,\\n\\nin ogni parte...  \n",
      "1  Care concittadine e cari concittadini,\\n\\nun a...  \n",
      "2  Care concittadine e cari concittadini,\\nquesto...  \n",
      "3  Il messaggio augurale di fine d'anno che ormai...  \n",
      "4  Care concittadine e cari concittadini,\\n\\nques...  \n",
      "5  \\n\\nCare concittadine e cari concittadini, que...  \n",
      "Modello =  Word2Vec<vocab=3762, vector_size=100, alpha=0.025>\n"
     ]
    }
   ],
   "source": [
    "mioModello = modello.creaCorpus()"
   ]
  },
  {
   "cell_type": "code",
   "execution_count": 13,
   "id": "9e1b5010",
   "metadata": {},
   "outputs": [
    {
     "name": "stdout",
     "output_type": "stream",
     "text": [
      "[('Partecipare', 0.7324875593185425), ('Cosa', 0.7247567772865295), ('diritti', 0.6561416387557983), ('farsi', 0.6241662502288818), ('vitalità', 0.6056980490684509), ('promettente', 0.6034070253372192), ('precarietà', 0.5962728261947632), ('sfida,', 0.5932315587997437), ('quantità', 0.5885535478591919), ('concretamente', 0.5833476781845093)]\n"
     ]
    }
   ],
   "source": [
    "print (mioModello.wv.most_similar (\"pace\"))"
   ]
  },
  {
   "cell_type": "code",
   "execution_count": null,
   "id": "fdcf5b88",
   "metadata": {},
   "outputs": [],
   "source": []
  }
 ],
 "metadata": {
  "kernelspec": {
   "display_name": "Python 3 (ipykernel)",
   "language": "python",
   "name": "python3"
  },
  "language_info": {
   "codemirror_mode": {
    "name": "ipython",
    "version": 3
   },
   "file_extension": ".py",
   "mimetype": "text/x-python",
   "name": "python",
   "nbconvert_exporter": "python",
   "pygments_lexer": "ipython3",
   "version": "3.11.5"
  }
 },
 "nbformat": 4,
 "nbformat_minor": 5
}
