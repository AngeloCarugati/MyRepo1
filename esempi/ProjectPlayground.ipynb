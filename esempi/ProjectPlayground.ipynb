{
 "cells": [
  {
   "cell_type": "code",
   "execution_count": 2,
   "id": "1155fa6a",
   "metadata": {},
   "outputs": [],
   "source": [
    "from MyLib import LLModel"
   ]
  },
  {
   "cell_type": "code",
   "execution_count": 6,
   "id": "193c6c7e",
   "metadata": {},
   "outputs": [
    {
     "name": "stdout",
     "output_type": "stream",
     "text": [
      "Nome =  modello n. 1\n",
      "Corpus =  /home/acarugat/MyRepo1/Testi/Manzoni\n",
      "Parametri =  {'nome': 'Giovanni', 'età': 26, 'città': 'Roma', 'lavoro': 'Ingegnere'}\n",
      "uno\n",
      "Chiave: nome, Valore: Giovanni\n",
      "Chiave: età, Valore: 26\n",
      "Chiave: città, Valore: Roma\n",
      "Chiave: lavoro, Valore: Ingegnere\n",
      "due\n"
     ]
    }
   ],
   "source": [
    "modello = LLModel(\"modello n. 1\", \"/home/acarugat/MyRepo1/Testi/Manzoni\", {'nome': 'Giovanni', 'età': 26, 'città': 'Roma', 'lavoro': 'Ingegnere'})"
   ]
  },
  {
   "cell_type": "code",
   "execution_count": 7,
   "id": "45f16538",
   "metadata": {},
   "outputs": [
    {
     "name": "stdout",
     "output_type": "stream",
     "text": [
      "/home/acarugat/MyRepo1/Testi/Manzoni\n",
      "                                            filename  \\\n",
      "0  /home/acarugat/MyRepo1/Testi/Manzoni/Storia-de...   \n",
      "1  /home/acarugat/MyRepo1/Testi/Manzoni/PromessiS...   \n",
      "2    /home/acarugat/MyRepo1/Testi/Manzoni/Corpus.txt   \n",
      "3  /home/acarugat/MyRepo1/Testi/Manzoni/Corpus-PP...   \n",
      "4  /home/acarugat/MyRepo1/Testi/Manzoni/PromessiS...   \n",
      "5  /home/acarugat/MyRepo1/Testi/Manzoni/Fermo-e-L...   \n",
      "6  /home/acarugat/MyRepo1/Testi/Manzoni/Il-Conte-...   \n",
      "7  /home/acarugat/MyRepo1/Testi/Manzoni/PromessiS...   \n",
      "\n",
      "                                             content  \n",
      "0  I.\\n\\nAi giudici che, in Milano, nel , condann...  \n",
      "1  e\\n\\nche\\n\\ndi\\n\\na\\n\\nil\\n\\nla\\n\\nun\\n\\nnon\\n...  \n",
      "2  «La Storia si può veramente chiamare una guerr...  \n",
      "3  storia può veramente chiamare guerra illustre ...  \n",
      "4  «L'Historia si può veramente deffinire una gue...  \n",
      "5  «La Storia si può veramente chiamare una guerr...  \n",
      "6  IL CONTE DI CARMAGNOLA\\nTRAGEDIA\\n\\n\\nAL SIGNO...  \n",
      "7  «L'Historia si può veramente deffinire una gue...  \n",
      "Modello =  Word2Vec<vocab=78548, vector_size=100, alpha=0.025>\n"
     ]
    }
   ],
   "source": [
    "mioModello = modello.creaCorpus()"
   ]
  },
  {
   "cell_type": "code",
   "execution_count": 9,
   "id": "9e1b5010",
   "metadata": {},
   "outputs": [
    {
     "name": "stdout",
     "output_type": "stream",
     "text": [
      "[('lago,', 0.5854316353797913), ('territorio', 0.46316850185394287), ('termine', 0.4449629783630371), ('naso,', 0.43195441365242004), ('bergamasco', 0.4226301908493042), ('settentrionale', 0.41932418942451477), (\"l'assito,\", 0.41756120324134827), ('bergamasco,', 0.41629114747047424), ('fossato', 0.41093987226486206), ('sponde', 0.4106864333152771)]\n"
     ]
    }
   ],
   "source": [
    "print (mioModello.wv.most_similar (\"lago\"))"
   ]
  },
  {
   "cell_type": "code",
   "execution_count": null,
   "id": "fdcf5b88",
   "metadata": {},
   "outputs": [],
   "source": []
  }
 ],
 "metadata": {
  "kernelspec": {
   "display_name": "Python 3 (ipykernel)",
   "language": "python",
   "name": "python3"
  },
  "language_info": {
   "codemirror_mode": {
    "name": "ipython",
    "version": 3
   },
   "file_extension": ".py",
   "mimetype": "text/x-python",
   "name": "python",
   "nbconvert_exporter": "python",
   "pygments_lexer": "ipython3",
   "version": "3.11.5"
  }
 },
 "nbformat": 4,
 "nbformat_minor": 5
}
