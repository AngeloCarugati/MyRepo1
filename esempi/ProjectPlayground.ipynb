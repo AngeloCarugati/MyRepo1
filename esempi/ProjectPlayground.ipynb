{
 "cells": [
  {
   "cell_type": "code",
   "execution_count": 1,
   "id": "1155fa6a",
   "metadata": {},
   "outputs": [],
   "source": [
    "from MyLib import LLModel"
   ]
  },
  {
   "cell_type": "code",
   "execution_count": 2,
   "id": "193c6c7e",
   "metadata": {},
   "outputs": [
    {
     "name": "stdout",
     "output_type": "stream",
     "text": [
      "Nome =  modello n. 1\n",
      "Corpus =  /home/acarugat/Testi/Manzoni\n",
      "Parametri =  {'nome': 'Giovanni', 'età': 26, 'città': 'Roma', 'lavoro': 'Ingegnere'}\n",
      "uno\n",
      "Chiave: nome, Valore: Giovanni\n",
      "Chiave: età, Valore: 26\n",
      "Chiave: città, Valore: Roma\n",
      "Chiave: lavoro, Valore: Ingegnere\n",
      "due\n"
     ]
    }
   ],
   "source": [
    "modello = LLModel(\"modello n. 1\", \"/home/acarugat/Testi/Manzoni\", {'nome': 'Giovanni', 'età': 26, 'città': 'Roma', 'lavoro': 'Ingegnere'})"
   ]
  },
  {
   "cell_type": "code",
   "execution_count": 3,
   "id": "45f16538",
   "metadata": {},
   "outputs": [
    {
     "name": "stdout",
     "output_type": "stream",
     "text": [
      "/home/acarugat/Testi/Manzoni\n",
      "                                           filename  \\\n",
      "0  /home/acarugat/Testi/Manzoni/InteroContenuto.txt   \n",
      "1      /home/acarugat/Testi/Manzoni/FermoELucia.txt   \n",
      "\n",
      "                                             content  \n",
      "0  Quel ramo del lago di Como d'onde esce l'Adda ...  \n",
      "1  Quel ramo del lago di Como d'onde esce l'Adda ...  \n",
      "Modello =  Word2Vec<vocab=2108, vector_size=100, alpha=0.025>\n"
     ]
    }
   ],
   "source": [
    "mioModello = modello.creaCorpus()"
   ]
  },
  {
   "cell_type": "code",
   "execution_count": 4,
   "id": "9e1b5010",
   "metadata": {},
   "outputs": [
    {
     "name": "stdout",
     "output_type": "stream",
     "text": [
      "[('idea', 0.5564429759979248), ('risposta', 0.5424512028694153), ('lembo', 0.5397554039955139), ('scende', 0.5373548865318298), ('giacitura', 0.5306615829467773), ('spontanea', 0.5238779187202454), ('creazione', 0.5118240714073181), ('artificiale', 0.5089136958122253), ('La', 0.4957854449748993), ('piano', 0.4911837875843048)]\n"
     ]
    }
   ],
   "source": [
    "print (mioModello.wv.most_similar (\"riviera\"))"
   ]
  },
  {
   "cell_type": "code",
   "execution_count": null,
   "id": "fdcf5b88",
   "metadata": {},
   "outputs": [],
   "source": []
  }
 ],
 "metadata": {
  "kernelspec": {
   "display_name": "Python 3 (ipykernel)",
   "language": "python",
   "name": "python3"
  },
  "language_info": {
   "codemirror_mode": {
    "name": "ipython",
    "version": 3
   },
   "file_extension": ".py",
   "mimetype": "text/x-python",
   "name": "python",
   "nbconvert_exporter": "python",
   "pygments_lexer": "ipython3",
   "version": "3.11.5"
  }
 },
 "nbformat": 4,
 "nbformat_minor": 5
}
