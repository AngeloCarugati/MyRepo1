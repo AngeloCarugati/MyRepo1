{
 "cells": [
  {
   "cell_type": "code",
   "execution_count": null,
   "id": "dec2e071",
   "metadata": {},
   "outputs": [],
   "source": [
    "# Prendiamo un link di una pagina e usiamo il modulo urllib per prelevare il contenuto dalla pagina\n",
    "print (\"uno\")\n",
    "import urllib.request\n",
    "print (\"ciao\")\n",
    "test_resp =  urllib.request.urlopen('https://en.wikipedia.org/wiki/Mercedes-Benz')\n",
    "print (\"test_resp=\",test_resp)\n",
    "input_page = test_resp.read()\n",
    "print(input_page)"
   ]
  },
  {
   "cell_type": "code",
   "execution_count": null,
   "id": "30ae7b46",
   "metadata": {},
   "outputs": [],
   "source": []
  }
 ],
 "metadata": {
  "kernelspec": {
   "display_name": "Python 3 (ipykernel)",
   "language": "python",
   "name": "python3"
  },
  "language_info": {
   "codemirror_mode": {
    "name": "ipython",
    "version": 3
   },
   "file_extension": ".py",
   "mimetype": "text/x-python",
   "name": "python",
   "nbconvert_exporter": "python",
   "pygments_lexer": "ipython3",
   "version": "3.11.5"
  }
 },
 "nbformat": 4,
 "nbformat_minor": 5
}
