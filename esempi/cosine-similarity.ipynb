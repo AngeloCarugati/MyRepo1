{
 "cells": [
  {
   "cell_type": "code",
   "execution_count": 3,
   "id": "c2c44b4a",
   "metadata": {},
   "outputs": [
    {
     "name": "stdout",
     "output_type": "stream",
     "text": [
      "Similarità coseno per 'stai': 0.13887983560562134\n"
     ]
    }
   ],
   "source": [
    "from gensim.models import Word2Vec\n",
    "from sklearn.metrics.pairwise import cosine_similarity\n",
    "\n",
    "# Frasi tokenizzate per le due fonti\n",
    "sentences_source1 = [[\"ciao\", \"come\", \"stai\"], [\"oggi\", \"è\", \"una\", \"bella\", \"giornata\"]]\n",
    "sentences_source2 = [[\"buongiorno\", \"stai\", \"bene\"], [\"giornata\", \"soleggiata\", \"oggi\"]]\n",
    "\n",
    "# Addestramento dei modelli Word2Vec\n",
    "model1 = Word2Vec(sentences_source1, vector_size=100, window=5, min_count=1)\n",
    "model2 = Word2Vec(sentences_source2, vector_size=100, window=5, min_count=1)\n",
    "\n",
    "# Confronto dei vettori di una parola comune\n",
    "word = \"stai\"\n",
    "if word in model1.wv and word in model2.wv:\n",
    "    vector1 = model1.wv[word]\n",
    "    vector2 = model2.wv[word]\n",
    "\n",
    "    similarity = cosine_similarity([vector1], [vector2])\n",
    "    print(f\"Similarità coseno per '{word}': {similarity[0][0]}\")\n",
    "else:\n",
    "    print(f\"La parola '{word}' non è presente in entrambe le fonti.\")\n"
   ]
  }
 ],
 "metadata": {
  "kernelspec": {
   "display_name": "Python 3 (ipykernel)",
   "language": "python",
   "name": "python3"
  },
  "language_info": {
   "codemirror_mode": {
    "name": "ipython",
    "version": 3
   },
   "file_extension": ".py",
   "mimetype": "text/x-python",
   "name": "python",
   "nbconvert_exporter": "python",
   "pygments_lexer": "ipython3",
   "version": "3.11.5"
  }
 },
 "nbformat": 4,
 "nbformat_minor": 5
}
